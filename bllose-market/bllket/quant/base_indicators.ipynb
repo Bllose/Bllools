{
 "cells": [
  {
   "cell_type": "code",
   "execution_count": 36,
   "id": "97e0f4b9",
   "metadata": {},
   "outputs": [],
   "source": [
    "\"\"\"\n",
    "计算基础包导入\n",
    "\"\"\"\n",
    "import numpy as np\n",
    "import pandas as pd"
   ]
  },
  {
   "cell_type": "code",
   "execution_count": 37,
   "id": "2529f48e",
   "metadata": {},
   "outputs": [],
   "source": [
    "\"\"\"\n",
    "该cell加载非计算内容, 仅用于展示结果\n",
    "\"\"\"\n",
    "from rich.table import Table\n",
    "from rich.console import Console\n",
    "\n",
    "console = Console()\n",
    "\n",
    "def print_tidy(info_list: list, title: str = ''):\n",
    "    table = Table(show_header=False, pad_edge=False, box=None, title=title)\n",
    "\n",
    "    # 添加列（justify参数控制对齐方式）\n",
    "    table.add_column(justify=\"left\")\n",
    "    table.add_column(justify=\"left\")\n",
    "\n",
    "    # 添加数据\n",
    "    for name, price in info_list:\n",
    "        table.add_row(name, str(price))\n",
    "\n",
    "    console.print(table)"
   ]
  },
  {
   "cell_type": "markdown",
   "id": "eff1f5ea",
   "metadata": {},
   "source": [
    "读取数据源  \n",
    "目前通过SCV获取股票数据"
   ]
  },
  {
   "cell_type": "code",
   "execution_count": null,
   "id": "8b60511a",
   "metadata": {},
   "outputs": [],
   "source": [
    "# 数据源每一列的含义\n",
    "# 股票编号\n",
    "TS_CODE = 0\n",
    "TRADE_DATE = 1\n",
    "OPEN = 2\n",
    "HIGH = 3\n",
    "LOW = 4\n",
    "CLOSE = 5\n",
    "PRE_CLOSE = 6\n",
    "CHANGE = 7\n",
    "PCT_CHG = 8\n",
    "VOL = 9\n",
    "AMOUNT = 10"
   ]
  },
  {
   "cell_type": "code",
   "execution_count": 29,
   "id": "e9e7319c",
   "metadata": {},
   "outputs": [],
   "source": [
    "# 时间跨度为一年的数据\n",
    "file_name = r'D:\\workplace\\datasources\\300059.SZ.year.csv'\n",
    "high_price, low_price, vol, close_price = np.loadtxt(\n",
    "    fname = file_name,\n",
    "    delimiter=',',\n",
    "    usecols = (HIGH, LOW, VOL, CLOSE),\n",
    "    unpack = True\n",
    ")\n",
    "\n",
    "# 时间跨度是一个月的数据\n",
    "file_name = r'D:\\workplace\\datasources\\300059.SZ.month.csv'\n",
    "high_price_m, low_price_m, vol_m, close_price_m = np.loadtxt(\n",
    "    fname = file_name,\n",
    "    delimiter=',',\n",
    "    usecols = (HIGH, LOW, VOL, CLOSE),\n",
    "    unpack = True\n",
    ")"
   ]
  },
  {
   "cell_type": "markdown",
   "id": "3530a531",
   "metadata": {},
   "source": [
    "# 极差\n",
    "股价近期最高价的最大值与最小值的差值\n",
    "差值越大说明波动越明显"
   ]
  },
  {
   "cell_type": "code",
   "execution_count": null,
   "id": "d6a61db3",
   "metadata": {},
   "outputs": [
    {
     "name": "stdout",
     "output_type": "stream",
     "text": [
      "30.38 28.93\n"
     ]
    }
   ],
   "source": [
    "# ptp(Peak-to-Peak) 最大峰值 - 最小峰值 = 极差\n",
    "hight_ptp = np.ptp(high_price)\n",
    "low_ptp = np.ptp(low_price)\n",
    "\n",
    "print(np.round(hight_ptp, 2), np.round(low_ptp, 2))"
   ]
  },
  {
   "cell_type": "markdown",
   "id": "25c4637d",
   "metadata": {},
   "source": [
    "# 成交量加权平均价格\n",
    "Volume-Weighted Average Price(VWAP)  \n",
    "一个非常重要的经济学指标，代表着金融资产的“平均”价格"
   ]
  },
  {
   "cell_type": "code",
   "execution_count": 16,
   "id": "da4ee23f",
   "metadata": {},
   "outputs": [
    {
     "data": {
      "text/html": [
       "<pre style=\"white-space:pre;overflow-x:auto;line-height:normal;font-family:Menlo,'DejaVu Sans Mono',consolas,'Courier New',monospace\">中位价格      22.52\n",
       "平均价格      22.4 \n",
       "加权平均价格  23.04\n",
       "</pre>\n"
      ],
      "text/plain": [
       "中位价格      22.52\n",
       "平均价格      22.4 \n",
       "加权平均价格  23.04\n"
      ]
     },
     "metadata": {},
     "output_type": "display_data"
    }
   ],
   "source": [
    "info_list = [\n",
    "    ('中位价格', np.round(np.median(close_price), 2)),\n",
    "    ('平均价格', np.round(np.average(close_price), 2)),\n",
    "    ('加权平均价格', np.round(np.average(close_price, weights=vol), 2))\n",
    "]\n",
    "print_tidy(info_list)"
   ]
  },
  {
   "cell_type": "markdown",
   "id": "8f7ef6dc",
   "metadata": {},
   "source": [
    "# 收益率\n",
    "简单收益率： 相邻两个价格之间的变化率  \n",
    "对数收益率： 指对所有价格取对数后两两之间的差值"
   ]
  },
  {
   "cell_type": "code",
   "execution_count": null,
   "id": "4dd666c1",
   "metadata": {},
   "outputs": [
    {
     "data": {
      "text/html": [
       "<pre style=\"white-space:pre;overflow-x:auto;line-height:normal;font-family:Menlo,'DejaVu Sans Mono',consolas,'Courier New',monospace\"><span style=\"font-style: italic\">   基于年数据   </span>\n",
       "日收益率  0.0383\n",
       "月收益率  0.1754\n",
       "年收益率  0.6052\n",
       "</pre>\n"
      ],
      "text/plain": [
       "\u001b[3m   基于年数据   \u001b[0m\n",
       "日收益率  0.0383\n",
       "月收益率  0.1754\n",
       "年收益率  0.6052\n"
      ]
     },
     "metadata": {},
     "output_type": "display_data"
    },
    {
     "data": {
      "text/html": [
       "<pre style=\"white-space:pre;overflow-x:auto;line-height:normal;font-family:Menlo,'DejaVu Sans Mono',consolas,'Courier New',monospace\"><span style=\"font-style: italic\">   基于月数据   </span>\n",
       "日收益率  0.0193\n",
       "月收益率  0.0885\n",
       "年收益率  0.3054\n",
       "</pre>\n"
      ],
      "text/plain": [
       "\u001b[3m   基于月数据   \u001b[0m\n",
       "日收益率  0.0193\n",
       "月收益率  0.0885\n",
       "年收益率  0.3054\n"
      ]
     },
     "metadata": {},
     "output_type": "display_data"
    }
   ],
   "source": [
    "def volatility_caculation(_close_price, title):\n",
    "    # 计算 对数收益率\n",
    "    # 数学意义 log(a) - log(b) = log(a/b)\n",
    "    # 即相邻收盘价对数的差值\n",
    "    # log_return = np.diff(np.log(_close_price))\n",
    "\n",
    "    # 通过pandas的Series实现对数收益率的计算的好处是可以保留索引，假如数据的key是日期，\n",
    "    # 那么所计算的收益率所属日期也会被保留下来，这样后续与其他数据对齐时将非常方便\n",
    "    close_price_series = pd.Series(_close_price)\n",
    "    log_return = np.log(close_price_series / close_price_series.shift(1)).dropna()\n",
    "\n",
    "    # 日收益率\n",
    "    daily_volatility = log_return.std()\n",
    "\n",
    "    # 月收益率\n",
    "    monthly_volatility = daily_volatility * np.sqrt(21)\n",
    "\n",
    "    # 年收益率\n",
    "    annual_volatility = daily_volatility * np.sqrt(250)\n",
    "\n",
    "\n",
    "    info_list = [\n",
    "        ('日收益率', np.round(daily_volatility, 4)),\n",
    "        ('月收益率', np.round(monthly_volatility, 4)),\n",
    "        ('年收益率', np.round(annual_volatility, 4))\n",
    "    ]\n",
    "    print_tidy(info_list, title)\n",
    "\n",
    "volatility_caculation(close_price, '基于年数据')\n",
    "volatility_caculation(close_price_m, '基于月数据')\n"
   ]
  },
  {
   "cell_type": "markdown",
   "id": "b78645e8",
   "metadata": {},
   "source": [
    "# 计算过程分析(年收益率)\n",
    "## 第一步： 收盘价对数化\n",
    "对应代码块 `np.log(close_price)`  \n",
    "本质上就是对收盘价列表中每一个价格取对数 a -> $log(a)$\n",
    "\n",
    "## 第二步： 计算对数收益率\n",
    "对应代码块`log_return = np.diff(np.log(close_price))`  \n",
    "本质上就是取相邻对数的差值，获取一个长度减少一位的新列表，即`len(close_price) - len(log_return) == 1`。  \n",
    "其中`log_return`列表中每个参数都是`close_price`中$log(b) - log(a)$计算得来。\n",
    "\n",
    "## 第三步： 计算对数收益率的标准差(日波动率)\n",
    "对应代码块`log_return.std()`  \n",
    "计算的是对数收益率序列的标准差。标准差主要用于衡量数据的离散程度，在金融领域，它反映了资产收益率的波动程度。  \n",
    "对应数学公式：  \n",
    "$σ = \\sqrt{\\frac{1}{N}\\sum_{i=1}^{N}(x_i-\\overline{x})^2}$  \n",
    "$x_i$ - 每一个对数收益率  \n",
    "$\\overline{x}$ - 对数收益率的平均值  \n",
    "$N$ - 样本数量  \n",
    "标准差越大，表明收益率的波动越大，资产的风险也越大\n",
    "\n",
    "## 第四步： 计算年收益率\n",
    "对应代码块`annual_volatility = log_return.std() * np.sqrt(250)`  \n",
    "本质上是将日波动率转换为年波动率。之所以乘以$\\sqrt{250}$是因为：  \n",
    "- 通常认为一年的交易日大约为250天。  \n",
    "- 当收益率相互独立时，波动率会随着时间的平方根增长，这是因为**方差（标准差的平方）具有可加性**。如果日收益率的方差是$σ_{day}^2$，那么T天的方差就是$T\\timesσ_{day}^2$，相应方差就是$σ_{day}\\times\\sqrt{T}$\n",
    "\n",
    "> - 上述计算过程假设了对数收益率序列满足独立同分布(IID)以及正太分布。但实际金融市场中，收益率可能存在自相关性、异方差性等情况。\n",
    "> - 一年的交易数量（250天）只是一个常用的近似值，在不同的市场中可能会有所不同。\n",
    "> - 该计算得到的是历史波动率，它反应的是过去的风险情况，未来的实际波动率可能会有所不同。\n"
   ]
  },
  {
   "cell_type": "code",
   "execution_count": null,
   "id": "a7e09a54",
   "metadata": {},
   "outputs": [],
   "source": []
  }
 ],
 "metadata": {
  "kernelspec": {
   "display_name": "base",
   "language": "python",
   "name": "python3"
  },
  "language_info": {
   "codemirror_mode": {
    "name": "ipython",
    "version": 3
   },
   "file_extension": ".py",
   "mimetype": "text/x-python",
   "name": "python",
   "nbconvert_exporter": "python",
   "pygments_lexer": "ipython3",
   "version": "3.12.3"
  }
 },
 "nbformat": 4,
 "nbformat_minor": 5
}
